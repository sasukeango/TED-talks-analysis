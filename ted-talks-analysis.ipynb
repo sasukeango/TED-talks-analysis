{
 "cells": [
  {
   "cell_type": "code",
   "execution_count": 1,
   "id": "b132fd31",
   "metadata": {
    "_cell_guid": "b1076dfc-b9ad-4769-8c92-a6c4dae69d19",
    "_uuid": "8f2839f25d086af736a60e9eeb907d3b93b6e0e5",
    "execution": {
     "iopub.execute_input": "2022-06-04T06:12:04.414058Z",
     "iopub.status.busy": "2022-06-04T06:12:04.413324Z",
     "iopub.status.idle": "2022-06-04T06:12:05.672302Z",
     "shell.execute_reply": "2022-06-04T06:12:05.671513Z"
    },
    "papermill": {
     "duration": 1.29484,
     "end_time": "2022-06-04T06:12:05.674840",
     "exception": false,
     "start_time": "2022-06-04T06:12:04.380000",
     "status": "completed"
    },
    "tags": []
   },
   "outputs": [],
   "source": [
    "# This Python 3 environment comes with many helpful analytics libraries installed\n",
    "# It is defined by the kaggle/python Docker image: https://github.com/kaggle/docker-python\n",
    "# For example, here's several helpful packages to load\n",
    "\n",
    "import numpy as np # linear algebra\n",
    "import pandas as pd # data processing, CSV file I/O (e.g. pd.read_csv)\n",
    "import matplotlib.pyplot as plt\n",
    "import plotly.graph_objects as go\n",
    "import seaborn as sns\n",
    "from scipy import stats\n",
    "\n",
    "\n",
    "\n",
    "# You can write up to 20GB to the current directory (/kaggle/working/) that gets preserved as output when you create a version using \"Save & Run All\" \n",
    "# You can also write temporary files to /kaggle/temp/, but they won't be saved outside of the current session"
   ]
  },
  {
   "cell_type": "code",
   "execution_count": 2,
   "id": "9c5b7408",
   "metadata": {
    "execution": {
     "iopub.execute_input": "2022-06-04T06:12:05.737968Z",
     "iopub.status.busy": "2022-06-04T06:12:05.737610Z",
     "iopub.status.idle": "2022-06-04T06:12:05.803216Z",
     "shell.execute_reply": "2022-06-04T06:12:05.802205Z"
    },
    "papermill": {
     "duration": 0.099856,
     "end_time": "2022-06-04T06:12:05.805760",
     "exception": false,
     "start_time": "2022-06-04T06:12:05.705904",
     "status": "completed"
    },
    "tags": []
   },
   "outputs": [],
   "source": [
    "df = pd.read_csv('../input/ted-talks/data.csv')"
   ]
  },
  {
   "cell_type": "code",
   "execution_count": 3,
   "id": "2fe51bad",
   "metadata": {
    "execution": {
     "iopub.execute_input": "2022-06-04T06:12:05.873148Z",
     "iopub.status.busy": "2022-06-04T06:12:05.872466Z",
     "iopub.status.idle": "2022-06-04T06:12:05.927861Z",
     "shell.execute_reply": "2022-06-04T06:12:05.926287Z"
    },
    "papermill": {
     "duration": 0.091256,
     "end_time": "2022-06-04T06:12:05.930388",
     "exception": false,
     "start_time": "2022-06-04T06:12:05.839132",
     "status": "completed"
    },
    "tags": []
   },
   "outputs": [
    {
     "name": "stdout",
     "output_type": "stream",
     "text": [
      "<class 'pandas.core.frame.DataFrame'>\n",
      "RangeIndex: 5440 entries, 0 to 5439\n",
      "Data columns (total 6 columns):\n",
      " #   Column  Non-Null Count  Dtype \n",
      "---  ------  --------------  ----- \n",
      " 0   title   5440 non-null   object\n",
      " 1   author  5439 non-null   object\n",
      " 2   date    5440 non-null   object\n",
      " 3   views   5440 non-null   int64 \n",
      " 4   likes   5440 non-null   int64 \n",
      " 5   link    5440 non-null   object\n",
      "dtypes: int64(2), object(4)\n",
      "memory usage: 255.1+ KB\n"
     ]
    },
    {
     "data": {
      "text/html": [
       "<div>\n",
       "<style scoped>\n",
       "    .dataframe tbody tr th:only-of-type {\n",
       "        vertical-align: middle;\n",
       "    }\n",
       "\n",
       "    .dataframe tbody tr th {\n",
       "        vertical-align: top;\n",
       "    }\n",
       "\n",
       "    .dataframe thead th {\n",
       "        text-align: right;\n",
       "    }\n",
       "</style>\n",
       "<table border=\"1\" class=\"dataframe\">\n",
       "  <thead>\n",
       "    <tr style=\"text-align: right;\">\n",
       "      <th></th>\n",
       "      <th>title</th>\n",
       "      <th>author</th>\n",
       "      <th>date</th>\n",
       "      <th>views</th>\n",
       "      <th>likes</th>\n",
       "      <th>link</th>\n",
       "    </tr>\n",
       "  </thead>\n",
       "  <tbody>\n",
       "    <tr>\n",
       "      <th>0</th>\n",
       "      <td>Climate action needs new frontline leadership</td>\n",
       "      <td>Ozawa Bineshi Albert</td>\n",
       "      <td>December 2021</td>\n",
       "      <td>404000</td>\n",
       "      <td>12000</td>\n",
       "      <td>https://ted.com/talks/ozawa_bineshi_albert_cli...</td>\n",
       "    </tr>\n",
       "    <tr>\n",
       "      <th>1</th>\n",
       "      <td>The dark history of the overthrow of Hawaii</td>\n",
       "      <td>Sydney Iaukea</td>\n",
       "      <td>February 2022</td>\n",
       "      <td>214000</td>\n",
       "      <td>6400</td>\n",
       "      <td>https://ted.com/talks/sydney_iaukea_the_dark_h...</td>\n",
       "    </tr>\n",
       "    <tr>\n",
       "      <th>2</th>\n",
       "      <td>How play can spark new ideas for your business</td>\n",
       "      <td>Martin Reeves</td>\n",
       "      <td>September 2021</td>\n",
       "      <td>412000</td>\n",
       "      <td>12000</td>\n",
       "      <td>https://ted.com/talks/martin_reeves_how_play_c...</td>\n",
       "    </tr>\n",
       "    <tr>\n",
       "      <th>3</th>\n",
       "      <td>Why is China appointing judges to combat clima...</td>\n",
       "      <td>James K. Thornton</td>\n",
       "      <td>October 2021</td>\n",
       "      <td>427000</td>\n",
       "      <td>12000</td>\n",
       "      <td>https://ted.com/talks/james_k_thornton_why_is_...</td>\n",
       "    </tr>\n",
       "    <tr>\n",
       "      <th>4</th>\n",
       "      <td>Cement's carbon problem — and 2 ways to fix it</td>\n",
       "      <td>Mahendra Singhi</td>\n",
       "      <td>October 2021</td>\n",
       "      <td>2400</td>\n",
       "      <td>72</td>\n",
       "      <td>https://ted.com/talks/mahendra_singhi_cement_s...</td>\n",
       "    </tr>\n",
       "    <tr>\n",
       "      <th>5</th>\n",
       "      <td>The tragedy of air pollution — and an urgent d...</td>\n",
       "      <td>Rosamund Adoo-Kissi-Debrah</td>\n",
       "      <td>October 2021</td>\n",
       "      <td>422000</td>\n",
       "      <td>12000</td>\n",
       "      <td>https://ted.com/talks/rosamund_adoo_kissi_debr...</td>\n",
       "    </tr>\n",
       "    <tr>\n",
       "      <th>6</th>\n",
       "      <td>The myth of Narcissus and Echo</td>\n",
       "      <td>Iseult Gillespie</td>\n",
       "      <td>February 2022</td>\n",
       "      <td>412000</td>\n",
       "      <td>12000</td>\n",
       "      <td>https://ted.com/talks/iseult_gillespie_the_myt...</td>\n",
       "    </tr>\n",
       "    <tr>\n",
       "      <th>7</th>\n",
       "      <td>You deserve the right to repair your stuff</td>\n",
       "      <td>Gay Gordon-Byrne</td>\n",
       "      <td>August 2021</td>\n",
       "      <td>455000</td>\n",
       "      <td>13000</td>\n",
       "      <td>https://ted.com/talks/gay_gordon_byrne_you_des...</td>\n",
       "    </tr>\n",
       "    <tr>\n",
       "      <th>8</th>\n",
       "      <td>What nature can teach us about sustainable bus...</td>\n",
       "      <td>Erin Meezan</td>\n",
       "      <td>February 2022</td>\n",
       "      <td>66000</td>\n",
       "      <td>1900</td>\n",
       "      <td>https://ted.com/talks/erin_meezan_what_nature_...</td>\n",
       "    </tr>\n",
       "    <tr>\n",
       "      <th>9</th>\n",
       "      <td>The origins of blackface and Black stereotypes</td>\n",
       "      <td>Dwan Reece</td>\n",
       "      <td>March 2019</td>\n",
       "      <td>584000</td>\n",
       "      <td>17000</td>\n",
       "      <td>https://ted.com/talks/dwan_reece_the_origins_o...</td>\n",
       "    </tr>\n",
       "  </tbody>\n",
       "</table>\n",
       "</div>"
      ],
      "text/plain": [
       "                                               title  \\\n",
       "0      Climate action needs new frontline leadership   \n",
       "1        The dark history of the overthrow of Hawaii   \n",
       "2     How play can spark new ideas for your business   \n",
       "3  Why is China appointing judges to combat clima...   \n",
       "4     Cement's carbon problem — and 2 ways to fix it   \n",
       "5  The tragedy of air pollution — and an urgent d...   \n",
       "6                     The myth of Narcissus and Echo   \n",
       "7         You deserve the right to repair your stuff   \n",
       "8  What nature can teach us about sustainable bus...   \n",
       "9     The origins of blackface and Black stereotypes   \n",
       "\n",
       "                       author            date   views  likes  \\\n",
       "0        Ozawa Bineshi Albert   December 2021  404000  12000   \n",
       "1               Sydney Iaukea   February 2022  214000   6400   \n",
       "2               Martin Reeves  September 2021  412000  12000   \n",
       "3           James K. Thornton    October 2021  427000  12000   \n",
       "4             Mahendra Singhi    October 2021    2400     72   \n",
       "5  Rosamund Adoo-Kissi-Debrah    October 2021  422000  12000   \n",
       "6            Iseult Gillespie   February 2022  412000  12000   \n",
       "7            Gay Gordon-Byrne     August 2021  455000  13000   \n",
       "8                 Erin Meezan   February 2022   66000   1900   \n",
       "9                  Dwan Reece      March 2019  584000  17000   \n",
       "\n",
       "                                                link  \n",
       "0  https://ted.com/talks/ozawa_bineshi_albert_cli...  \n",
       "1  https://ted.com/talks/sydney_iaukea_the_dark_h...  \n",
       "2  https://ted.com/talks/martin_reeves_how_play_c...  \n",
       "3  https://ted.com/talks/james_k_thornton_why_is_...  \n",
       "4  https://ted.com/talks/mahendra_singhi_cement_s...  \n",
       "5  https://ted.com/talks/rosamund_adoo_kissi_debr...  \n",
       "6  https://ted.com/talks/iseult_gillespie_the_myt...  \n",
       "7  https://ted.com/talks/gay_gordon_byrne_you_des...  \n",
       "8  https://ted.com/talks/erin_meezan_what_nature_...  \n",
       "9  https://ted.com/talks/dwan_reece_the_origins_o...  "
      ]
     },
     "execution_count": 3,
     "metadata": {},
     "output_type": "execute_result"
    }
   ],
   "source": [
    "df.info()\n",
    "df.head(10)"
   ]
  },
  {
   "cell_type": "markdown",
   "id": "25cd4d4d",
   "metadata": {
    "papermill": {
     "duration": 0.03369,
     "end_time": "2022-06-04T06:12:05.997363",
     "exception": false,
     "start_time": "2022-06-04T06:12:05.963673",
     "status": "completed"
    },
    "tags": []
   },
   "source": [
    "There is a missing value in colunm auhtor"
   ]
  },
  {
   "cell_type": "code",
   "execution_count": 4,
   "id": "3059d0e2",
   "metadata": {
    "execution": {
     "iopub.execute_input": "2022-06-04T06:12:06.067079Z",
     "iopub.status.busy": "2022-06-04T06:12:06.066198Z",
     "iopub.status.idle": "2022-06-04T06:12:06.083298Z",
     "shell.execute_reply": "2022-06-04T06:12:06.082068Z"
    },
    "papermill": {
     "duration": 0.05365,
     "end_time": "2022-06-04T06:12:06.085495",
     "exception": false,
     "start_time": "2022-06-04T06:12:06.031845",
     "status": "completed"
    },
    "tags": []
   },
   "outputs": [
    {
     "data": {
      "text/html": [
       "<div>\n",
       "<style scoped>\n",
       "    .dataframe tbody tr th:only-of-type {\n",
       "        vertical-align: middle;\n",
       "    }\n",
       "\n",
       "    .dataframe tbody tr th {\n",
       "        vertical-align: top;\n",
       "    }\n",
       "\n",
       "    .dataframe thead th {\n",
       "        text-align: right;\n",
       "    }\n",
       "</style>\n",
       "<table border=\"1\" class=\"dataframe\">\n",
       "  <thead>\n",
       "    <tr style=\"text-align: right;\">\n",
       "      <th></th>\n",
       "      <th>title</th>\n",
       "      <th>author</th>\n",
       "      <th>date</th>\n",
       "      <th>views</th>\n",
       "      <th>likes</th>\n",
       "      <th>link</th>\n",
       "    </tr>\n",
       "  </thead>\n",
       "  <tbody>\n",
       "    <tr>\n",
       "      <th>3039</th>\n",
       "      <td>Year In Ideas 2015</td>\n",
       "      <td>NaN</td>\n",
       "      <td>December 2015</td>\n",
       "      <td>532</td>\n",
       "      <td>15</td>\n",
       "      <td>https://ted.com/talks/year_in_ideas_2015</td>\n",
       "    </tr>\n",
       "  </tbody>\n",
       "</table>\n",
       "</div>"
      ],
      "text/plain": [
       "                   title author           date  views  likes  \\\n",
       "3039  Year In Ideas 2015    NaN  December 2015    532     15   \n",
       "\n",
       "                                          link  \n",
       "3039  https://ted.com/talks/year_in_ideas_2015  "
      ]
     },
     "execution_count": 4,
     "metadata": {},
     "output_type": "execute_result"
    }
   ],
   "source": [
    "#finding missing value\n",
    "null_value = df[df.isna().any(axis=1)]\n",
    "null_value"
   ]
  },
  {
   "cell_type": "code",
   "execution_count": 5,
   "id": "ad1c16e7",
   "metadata": {
    "execution": {
     "iopub.execute_input": "2022-06-04T06:12:06.153938Z",
     "iopub.status.busy": "2022-06-04T06:12:06.153591Z",
     "iopub.status.idle": "2022-06-04T06:12:06.176479Z",
     "shell.execute_reply": "2022-06-04T06:12:06.175520Z"
    },
    "papermill": {
     "duration": 0.061508,
     "end_time": "2022-06-04T06:12:06.178851",
     "exception": false,
     "start_time": "2022-06-04T06:12:06.117343",
     "status": "completed"
    },
    "tags": []
   },
   "outputs": [
    {
     "name": "stdout",
     "output_type": "stream",
     "text": [
      "<class 'pandas.core.frame.DataFrame'>\n",
      "Int64Index: 5439 entries, 0 to 5439\n",
      "Data columns (total 6 columns):\n",
      " #   Column  Non-Null Count  Dtype \n",
      "---  ------  --------------  ----- \n",
      " 0   title   5439 non-null   object\n",
      " 1   author  5439 non-null   object\n",
      " 2   date    5439 non-null   object\n",
      " 3   views   5439 non-null   int64 \n",
      " 4   likes   5439 non-null   int64 \n",
      " 5   link    5439 non-null   object\n",
      "dtypes: int64(2), object(4)\n",
      "memory usage: 297.4+ KB\n"
     ]
    }
   ],
   "source": [
    "#drop the row in which have missing value\n",
    "df.dropna(inplace=True)\n",
    "df.info()"
   ]
  },
  {
   "cell_type": "code",
   "execution_count": 6,
   "id": "deeacb7e",
   "metadata": {
    "execution": {
     "iopub.execute_input": "2022-06-04T06:12:06.254643Z",
     "iopub.status.busy": "2022-06-04T06:12:06.254061Z",
     "iopub.status.idle": "2022-06-04T06:12:06.269520Z",
     "shell.execute_reply": "2022-06-04T06:12:06.268737Z"
    },
    "papermill": {
     "duration": 0.056502,
     "end_time": "2022-06-04T06:12:06.271900",
     "exception": false,
     "start_time": "2022-06-04T06:12:06.215398",
     "status": "completed"
    },
    "tags": []
   },
   "outputs": [],
   "source": [
    "#converting to available dtypes\n",
    "df['date2'] = pd.to_datetime(df['date'],format='%B %Y')\n",
    "df['year'] = pd. DatetimeIndex(df['date2']).year\n",
    "df['month'] = pd. DatetimeIndex(df['date2']). month\n",
    "\n"
   ]
  },
  {
   "cell_type": "markdown",
   "id": "41ac6275",
   "metadata": {
    "papermill": {
     "duration": 0.034927,
     "end_time": "2022-06-04T06:12:06.340319",
     "exception": false,
     "start_time": "2022-06-04T06:12:06.305392",
     "status": "completed"
    },
    "tags": []
   },
   "source": [
    "# **Which is the most viewed video?**"
   ]
  },
  {
   "cell_type": "code",
   "execution_count": 7,
   "id": "5c053980",
   "metadata": {
    "execution": {
     "iopub.execute_input": "2022-06-04T06:12:06.407905Z",
     "iopub.status.busy": "2022-06-04T06:12:06.407317Z",
     "iopub.status.idle": "2022-06-04T06:12:06.432591Z",
     "shell.execute_reply": "2022-06-04T06:12:06.431726Z"
    },
    "papermill": {
     "duration": 0.0614,
     "end_time": "2022-06-04T06:12:06.434716",
     "exception": false,
     "start_time": "2022-06-04T06:12:06.373316",
     "status": "completed"
    },
    "tags": []
   },
   "outputs": [
    {
     "data": {
      "text/html": [
       "<div>\n",
       "<style scoped>\n",
       "    .dataframe tbody tr th:only-of-type {\n",
       "        vertical-align: middle;\n",
       "    }\n",
       "\n",
       "    .dataframe tbody tr th {\n",
       "        vertical-align: top;\n",
       "    }\n",
       "\n",
       "    .dataframe thead th {\n",
       "        text-align: right;\n",
       "    }\n",
       "</style>\n",
       "<table border=\"1\" class=\"dataframe\">\n",
       "  <thead>\n",
       "    <tr style=\"text-align: right;\">\n",
       "      <th></th>\n",
       "      <th>title</th>\n",
       "      <th>author</th>\n",
       "      <th>date</th>\n",
       "      <th>views</th>\n",
       "      <th>likes</th>\n",
       "      <th>link</th>\n",
       "      <th>date2</th>\n",
       "      <th>year</th>\n",
       "      <th>month</th>\n",
       "    </tr>\n",
       "  </thead>\n",
       "  <tbody>\n",
       "    <tr>\n",
       "      <th>5436</th>\n",
       "      <td>Do schools kill creativity?</td>\n",
       "      <td>Sir Ken Robinson</td>\n",
       "      <td>February 2006</td>\n",
       "      <td>72000000</td>\n",
       "      <td>2100000</td>\n",
       "      <td>https://ted.com/talks/sir_ken_robinson_do_scho...</td>\n",
       "      <td>2006-02-01</td>\n",
       "      <td>2006</td>\n",
       "      <td>2</td>\n",
       "    </tr>\n",
       "    <tr>\n",
       "      <th>4084</th>\n",
       "      <td>Your body language may shape who you are</td>\n",
       "      <td>Amy Cuddy</td>\n",
       "      <td>June 2012</td>\n",
       "      <td>64000000</td>\n",
       "      <td>1900000</td>\n",
       "      <td>https://ted.com/talks/amy_cuddy_your_body_lang...</td>\n",
       "      <td>2012-06-01</td>\n",
       "      <td>2012</td>\n",
       "      <td>6</td>\n",
       "    </tr>\n",
       "    <tr>\n",
       "      <th>2958</th>\n",
       "      <td>Inside the mind of a master procrastinator</td>\n",
       "      <td>Tim Urban</td>\n",
       "      <td>February 2016</td>\n",
       "      <td>60000000</td>\n",
       "      <td>1800000</td>\n",
       "      <td>https://ted.com/talks/tim_urban_inside_the_min...</td>\n",
       "      <td>2016-02-01</td>\n",
       "      <td>2016</td>\n",
       "      <td>2</td>\n",
       "    </tr>\n",
       "    <tr>\n",
       "      <th>4765</th>\n",
       "      <td>How great leaders inspire action</td>\n",
       "      <td>Simon Sinek</td>\n",
       "      <td>September 2009</td>\n",
       "      <td>57000000</td>\n",
       "      <td>1700000</td>\n",
       "      <td>https://ted.com/talks/simon_sinek_how_great_le...</td>\n",
       "      <td>2009-09-01</td>\n",
       "      <td>2009</td>\n",
       "      <td>9</td>\n",
       "    </tr>\n",
       "    <tr>\n",
       "      <th>4605</th>\n",
       "      <td>The power of vulnerability</td>\n",
       "      <td>Brené Brown</td>\n",
       "      <td>June 2010</td>\n",
       "      <td>56000000</td>\n",
       "      <td>1700000</td>\n",
       "      <td>https://ted.com/talks/brene_brown_the_power_of...</td>\n",
       "      <td>2010-06-01</td>\n",
       "      <td>2010</td>\n",
       "      <td>6</td>\n",
       "    </tr>\n",
       "    <tr>\n",
       "      <th>...</th>\n",
       "      <td>...</td>\n",
       "      <td>...</td>\n",
       "      <td>...</td>\n",
       "      <td>...</td>\n",
       "      <td>...</td>\n",
       "      <td>...</td>\n",
       "      <td>...</td>\n",
       "      <td>...</td>\n",
       "      <td>...</td>\n",
       "    </tr>\n",
       "    <tr>\n",
       "      <th>478</th>\n",
       "      <td>The case for public media</td>\n",
       "      <td>Qi Wu 吴琪</td>\n",
       "      <td>November 2020</td>\n",
       "      <td>1500</td>\n",
       "      <td>47</td>\n",
       "      <td>https://ted.com/talks/qi_wu_the_case_for_publi...</td>\n",
       "      <td>2020-11-01</td>\n",
       "      <td>2020</td>\n",
       "      <td>11</td>\n",
       "    </tr>\n",
       "    <tr>\n",
       "      <th>1692</th>\n",
       "      <td>\"Part II. The Journey Through Time\" / \"Ruslan ...</td>\n",
       "      <td>Deutsche Philharmonie Merck</td>\n",
       "      <td>November 2018</td>\n",
       "      <td>1300</td>\n",
       "      <td>40</td>\n",
       "      <td>https://ted.com/talks/deutsche_philharmonie_me...</td>\n",
       "      <td>2018-11-01</td>\n",
       "      <td>2018</td>\n",
       "      <td>11</td>\n",
       "    </tr>\n",
       "    <tr>\n",
       "      <th>1064</th>\n",
       "      <td>\"Jamie Raeburn\" / \"Baloo Baleerie\" / \"Twa recr...</td>\n",
       "      <td>Findlay Napier and Gillian Frame</td>\n",
       "      <td>July 2019</td>\n",
       "      <td>1300</td>\n",
       "      <td>40</td>\n",
       "      <td>https://ted.com/talks/findlay_napier_and_gilli...</td>\n",
       "      <td>2019-07-01</td>\n",
       "      <td>2019</td>\n",
       "      <td>7</td>\n",
       "    </tr>\n",
       "    <tr>\n",
       "      <th>552</th>\n",
       "      <td>Virtual Worlds</td>\n",
       "      <td>Far Flung</td>\n",
       "      <td>November 2020</td>\n",
       "      <td>1300</td>\n",
       "      <td>39</td>\n",
       "      <td>https://ted.com/talks/far_flung_virtual_worlds</td>\n",
       "      <td>2020-11-01</td>\n",
       "      <td>2020</td>\n",
       "      <td>11</td>\n",
       "    </tr>\n",
       "    <tr>\n",
       "      <th>613</th>\n",
       "      <td>Post-Pandemic Paradise in Rapa Nui</td>\n",
       "      <td>Far Flung</td>\n",
       "      <td>October 2020</td>\n",
       "      <td>1200</td>\n",
       "      <td>37</td>\n",
       "      <td>https://ted.com/talks/far_flung_post_pandemic_...</td>\n",
       "      <td>2020-10-01</td>\n",
       "      <td>2020</td>\n",
       "      <td>10</td>\n",
       "    </tr>\n",
       "  </tbody>\n",
       "</table>\n",
       "<p>5439 rows × 9 columns</p>\n",
       "</div>"
      ],
      "text/plain": [
       "                                                  title  \\\n",
       "5436                        Do schools kill creativity?   \n",
       "4084           Your body language may shape who you are   \n",
       "2958         Inside the mind of a master procrastinator   \n",
       "4765                   How great leaders inspire action   \n",
       "4605                         The power of vulnerability   \n",
       "...                                                 ...   \n",
       "478                           The case for public media   \n",
       "1692  \"Part II. The Journey Through Time\" / \"Ruslan ...   \n",
       "1064  \"Jamie Raeburn\" / \"Baloo Baleerie\" / \"Twa recr...   \n",
       "552                                      Virtual Worlds   \n",
       "613                  Post-Pandemic Paradise in Rapa Nui   \n",
       "\n",
       "                                author            date     views    likes  \\\n",
       "5436                  Sir Ken Robinson   February 2006  72000000  2100000   \n",
       "4084                         Amy Cuddy       June 2012  64000000  1900000   \n",
       "2958                         Tim Urban   February 2016  60000000  1800000   \n",
       "4765                       Simon Sinek  September 2009  57000000  1700000   \n",
       "4605                       Brené Brown       June 2010  56000000  1700000   \n",
       "...                                ...             ...       ...      ...   \n",
       "478                           Qi Wu 吴琪   November 2020      1500       47   \n",
       "1692       Deutsche Philharmonie Merck   November 2018      1300       40   \n",
       "1064  Findlay Napier and Gillian Frame       July 2019      1300       40   \n",
       "552                          Far Flung   November 2020      1300       39   \n",
       "613                          Far Flung    October 2020      1200       37   \n",
       "\n",
       "                                                   link      date2  year  \\\n",
       "5436  https://ted.com/talks/sir_ken_robinson_do_scho... 2006-02-01  2006   \n",
       "4084  https://ted.com/talks/amy_cuddy_your_body_lang... 2012-06-01  2012   \n",
       "2958  https://ted.com/talks/tim_urban_inside_the_min... 2016-02-01  2016   \n",
       "4765  https://ted.com/talks/simon_sinek_how_great_le... 2009-09-01  2009   \n",
       "4605  https://ted.com/talks/brene_brown_the_power_of... 2010-06-01  2010   \n",
       "...                                                 ...        ...   ...   \n",
       "478   https://ted.com/talks/qi_wu_the_case_for_publi... 2020-11-01  2020   \n",
       "1692  https://ted.com/talks/deutsche_philharmonie_me... 2018-11-01  2018   \n",
       "1064  https://ted.com/talks/findlay_napier_and_gilli... 2019-07-01  2019   \n",
       "552      https://ted.com/talks/far_flung_virtual_worlds 2020-11-01  2020   \n",
       "613   https://ted.com/talks/far_flung_post_pandemic_... 2020-10-01  2020   \n",
       "\n",
       "      month  \n",
       "5436      2  \n",
       "4084      6  \n",
       "2958      2  \n",
       "4765      9  \n",
       "4605      6  \n",
       "...     ...  \n",
       "478      11  \n",
       "1692     11  \n",
       "1064      7  \n",
       "552      11  \n",
       "613      10  \n",
       "\n",
       "[5439 rows x 9 columns]"
      ]
     },
     "execution_count": 7,
     "metadata": {},
     "output_type": "execute_result"
    }
   ],
   "source": [
    "df.sort_values('views', ascending= False)"
   ]
  },
  {
   "cell_type": "markdown",
   "id": "0063af4b",
   "metadata": {
    "papermill": {
     "duration": 0.033061,
     "end_time": "2022-06-04T06:12:06.501511",
     "exception": false,
     "start_time": "2022-06-04T06:12:06.468450",
     "status": "completed"
    },
    "tags": []
   },
   "source": [
    "\"Do scholl kills creativity?\" is the highest view. It was in Feb 2006"
   ]
  },
  {
   "cell_type": "markdown",
   "id": "ff921bb4",
   "metadata": {
    "papermill": {
     "duration": 0.032745,
     "end_time": "2022-06-04T06:12:06.567989",
     "exception": false,
     "start_time": "2022-06-04T06:12:06.535244",
     "status": "completed"
    },
    "tags": []
   },
   "source": [
    "# **Which year has the highest view?**"
   ]
  },
  {
   "cell_type": "code",
   "execution_count": 8,
   "id": "533aff4d",
   "metadata": {
    "execution": {
     "iopub.execute_input": "2022-06-04T06:12:06.642064Z",
     "iopub.status.busy": "2022-06-04T06:12:06.641438Z",
     "iopub.status.idle": "2022-06-04T06:12:06.648667Z",
     "shell.execute_reply": "2022-06-04T06:12:06.647759Z"
    },
    "papermill": {
     "duration": 0.044659,
     "end_time": "2022-06-04T06:12:06.650686",
     "exception": false,
     "start_time": "2022-06-04T06:12:06.606027",
     "status": "completed"
    },
    "tags": []
   },
   "outputs": [
    {
     "data": {
      "text/plain": [
       "array([2021, 2022, 2019, 2016, 2017, 2020, 2015, 2014, 2018, 1970, 2012,\n",
       "       2013, 2009, 2010, 2011, 1994, 2005, 2007, 2006, 1972, 2008, 2001,\n",
       "       1983, 1991, 2004, 2003, 2002, 1998, 1990, 1984])"
      ]
     },
     "execution_count": 8,
     "metadata": {},
     "output_type": "execute_result"
    }
   ],
   "source": [
    "df['year'].unique()"
   ]
  },
  {
   "cell_type": "markdown",
   "id": "a90f6970",
   "metadata": {
    "papermill": {
     "duration": 0.033481,
     "end_time": "2022-06-04T06:12:06.717472",
     "exception": false,
     "start_time": "2022-06-04T06:12:06.683991",
     "status": "completed"
    },
    "tags": []
   },
   "source": [
    "There are 29 years in column 'year'. To easily observing, we will take in range 2009-2022"
   ]
  },
  {
   "cell_type": "code",
   "execution_count": 9,
   "id": "cb1c79f2",
   "metadata": {
    "execution": {
     "iopub.execute_input": "2022-06-04T06:12:06.787610Z",
     "iopub.status.busy": "2022-06-04T06:12:06.787013Z",
     "iopub.status.idle": "2022-06-04T06:12:06.804775Z",
     "shell.execute_reply": "2022-06-04T06:12:06.803726Z"
    },
    "papermill": {
     "duration": 0.056195,
     "end_time": "2022-06-04T06:12:06.807067",
     "exception": false,
     "start_time": "2022-06-04T06:12:06.750872",
     "status": "completed"
    },
    "tags": []
   },
   "outputs": [
    {
     "data": {
      "text/html": [
       "<div>\n",
       "<style scoped>\n",
       "    .dataframe tbody tr th:only-of-type {\n",
       "        vertical-align: middle;\n",
       "    }\n",
       "\n",
       "    .dataframe tbody tr th {\n",
       "        vertical-align: top;\n",
       "    }\n",
       "\n",
       "    .dataframe thead th {\n",
       "        text-align: right;\n",
       "    }\n",
       "</style>\n",
       "<table border=\"1\" class=\"dataframe\">\n",
       "  <thead>\n",
       "    <tr style=\"text-align: right;\">\n",
       "      <th></th>\n",
       "      <th>year</th>\n",
       "      <th>views</th>\n",
       "      <th>likes</th>\n",
       "      <th>month</th>\n",
       "    </tr>\n",
       "  </thead>\n",
       "  <tbody>\n",
       "    <tr>\n",
       "      <th>0</th>\n",
       "      <td>2009</td>\n",
       "      <td>557635000</td>\n",
       "      <td>16841500</td>\n",
       "      <td>1421</td>\n",
       "    </tr>\n",
       "    <tr>\n",
       "      <th>1</th>\n",
       "      <td>2010</td>\n",
       "      <td>528145999</td>\n",
       "      <td>15962900</td>\n",
       "      <td>1730</td>\n",
       "    </tr>\n",
       "    <tr>\n",
       "      <th>2</th>\n",
       "      <td>2011</td>\n",
       "      <td>575677999</td>\n",
       "      <td>17478900</td>\n",
       "      <td>1792</td>\n",
       "    </tr>\n",
       "    <tr>\n",
       "      <th>3</th>\n",
       "      <td>2012</td>\n",
       "      <td>803186000</td>\n",
       "      <td>24331209</td>\n",
       "      <td>1755</td>\n",
       "    </tr>\n",
       "    <tr>\n",
       "      <th>4</th>\n",
       "      <td>2013</td>\n",
       "      <td>1062537497</td>\n",
       "      <td>32249916</td>\n",
       "      <td>2276</td>\n",
       "    </tr>\n",
       "    <tr>\n",
       "      <th>5</th>\n",
       "      <td>2014</td>\n",
       "      <td>824652297</td>\n",
       "      <td>25076665</td>\n",
       "      <td>2540</td>\n",
       "    </tr>\n",
       "    <tr>\n",
       "      <th>6</th>\n",
       "      <td>2015</td>\n",
       "      <td>1154739598</td>\n",
       "      <td>35151746</td>\n",
       "      <td>2647</td>\n",
       "    </tr>\n",
       "    <tr>\n",
       "      <th>7</th>\n",
       "      <td>2016</td>\n",
       "      <td>928894896</td>\n",
       "      <td>28306782</td>\n",
       "      <td>2638</td>\n",
       "    </tr>\n",
       "    <tr>\n",
       "      <th>8</th>\n",
       "      <td>2017</td>\n",
       "      <td>998891600</td>\n",
       "      <td>30516328</td>\n",
       "      <td>3675</td>\n",
       "    </tr>\n",
       "    <tr>\n",
       "      <th>9</th>\n",
       "      <td>2018</td>\n",
       "      <td>811857597</td>\n",
       "      <td>24671493</td>\n",
       "      <td>3583</td>\n",
       "    </tr>\n",
       "    <tr>\n",
       "      <th>10</th>\n",
       "      <td>2019</td>\n",
       "      <td>948119299</td>\n",
       "      <td>28764575</td>\n",
       "      <td>3592</td>\n",
       "    </tr>\n",
       "    <tr>\n",
       "      <th>11</th>\n",
       "      <td>2020</td>\n",
       "      <td>635944200</td>\n",
       "      <td>19297014</td>\n",
       "      <td>3391</td>\n",
       "    </tr>\n",
       "    <tr>\n",
       "      <th>12</th>\n",
       "      <td>2021</td>\n",
       "      <td>429728700</td>\n",
       "      <td>13058238</td>\n",
       "      <td>2797</td>\n",
       "    </tr>\n",
       "    <tr>\n",
       "      <th>13</th>\n",
       "      <td>2022</td>\n",
       "      <td>11470000</td>\n",
       "      <td>341254</td>\n",
       "      <td>28</td>\n",
       "    </tr>\n",
       "  </tbody>\n",
       "</table>\n",
       "</div>"
      ],
      "text/plain": [
       "    year       views     likes  month\n",
       "0   2009   557635000  16841500   1421\n",
       "1   2010   528145999  15962900   1730\n",
       "2   2011   575677999  17478900   1792\n",
       "3   2012   803186000  24331209   1755\n",
       "4   2013  1062537497  32249916   2276\n",
       "5   2014   824652297  25076665   2540\n",
       "6   2015  1154739598  35151746   2647\n",
       "7   2016   928894896  28306782   2638\n",
       "8   2017   998891600  30516328   3675\n",
       "9   2018   811857597  24671493   3583\n",
       "10  2019   948119299  28764575   3592\n",
       "11  2020   635944200  19297014   3391\n",
       "12  2021   429728700  13058238   2797\n",
       "13  2022    11470000    341254     28"
      ]
     },
     "execution_count": 9,
     "metadata": {},
     "output_type": "execute_result"
    }
   ],
   "source": [
    "df_copy = df[df['year'] > 2008]\n",
    "df_grp = df_copy.groupby(['year'], as_index=False).sum()\n",
    "df_grp"
   ]
  },
  {
   "cell_type": "markdown",
   "id": "6bd5df62",
   "metadata": {
    "papermill": {
     "duration": 0.033571,
     "end_time": "2022-06-04T06:12:06.874825",
     "exception": false,
     "start_time": "2022-06-04T06:12:06.841254",
     "status": "completed"
    },
    "tags": []
   },
   "source": [
    "2015 is the highest views year"
   ]
  },
  {
   "cell_type": "code",
   "execution_count": 10,
   "id": "35363bc9",
   "metadata": {
    "execution": {
     "iopub.execute_input": "2022-06-04T06:12:06.945328Z",
     "iopub.status.busy": "2022-06-04T06:12:06.944738Z",
     "iopub.status.idle": "2022-06-04T06:12:07.176108Z",
     "shell.execute_reply": "2022-06-04T06:12:07.175146Z"
    },
    "papermill": {
     "duration": 0.271214,
     "end_time": "2022-06-04T06:12:07.180531",
     "exception": false,
     "start_time": "2022-06-04T06:12:06.909317",
     "status": "completed"
    },
    "tags": []
   },
   "outputs": [
    {
     "data": {
      "image/png": "[encoded data removed]",
      "text/plain": [
       "<Figure size 432x288 with 1 Axes>"
      ]
     },
     "metadata": {},
     "output_type": "display_data"
    }
   ],
   "source": [
    "  \n",
    "# Setting labels for items in Chart\n",
    "year = df_grp['year']\n",
    "  \n",
    "# Setting size in Chart based on \n",
    "# given values\n",
    "views = df_grp['views']\n",
    "  \n",
    "# colors\n",
    "colors = ['#FF0000', '#0000FF', '#FFFF00', \n",
    "          '#ADFF2F', '#FFA500']\n",
    "# explosion\n",
    "explode = (0.05, 0.05, 0.05, 0.05, 0.05, 0.05, 0.3, 0.05, 0.05, 0.05, 0.05,0.05,0.05,0.05)\n",
    "  \n",
    "# Pie Chart\n",
    "plt.pie(views, labels=year,\n",
    "        autopct='%1.1f%%', pctdistance=0.85,\n",
    "        explode=explode)\n",
    "  \n",
    "# draw circle\n",
    "centre_circle = plt.Circle((0, 0), 0.70, fc='white')\n",
    "fig = plt.gcf()\n",
    "  \n",
    "# Adding Circle in Pie chart\n",
    "fig.gca().add_artist(centre_circle)\n",
    "  \n",
    "# Adding Title of chart\n",
    "plt.title('Views from 2012-2022')\n",
    "  \n",
    "# Displaying Chart\n",
    "plt.show() "
   ]
  },
  {
   "cell_type": "markdown",
   "id": "6c06c98a",
   "metadata": {
    "papermill": {
     "duration": 0.034981,
     "end_time": "2022-06-04T06:12:07.279985",
     "exception": false,
     "start_time": "2022-06-04T06:12:07.245004",
     "status": "completed"
    },
    "tags": []
   },
   "source": [
    "# **How many shows have been produced in each year?**"
   ]
  },
  {
   "cell_type": "code",
   "execution_count": 11,
   "id": "4d6b6171",
   "metadata": {
    "execution": {
     "iopub.execute_input": "2022-06-04T06:12:07.353699Z",
     "iopub.status.busy": "2022-06-04T06:12:07.353121Z",
     "iopub.status.idle": "2022-06-04T06:12:07.364929Z",
     "shell.execute_reply": "2022-06-04T06:12:07.363893Z"
    },
    "papermill": {
     "duration": 0.051336,
     "end_time": "2022-06-04T06:12:07.367150",
     "exception": false,
     "start_time": "2022-06-04T06:12:07.315814",
     "status": "completed"
    },
    "tags": []
   },
   "outputs": [
    {
     "data": {
      "text/plain": [
       "2009    233\n",
       "2010    267\n",
       "2011    271\n",
       "2012    302\n",
       "2013    388\n",
       "2014    357\n",
       "2015    376\n",
       "2016    399\n",
       "2017    495\n",
       "2018    473\n",
       "2019    544\n",
       "2020    501\n",
       "2021    390\n",
       "2022     20\n",
       "Name: year, dtype: int64"
      ]
     },
     "execution_count": 11,
     "metadata": {},
     "output_type": "execute_result"
    }
   ],
   "source": [
    "df['year'].loc[df['year']>2008].value_counts().sort_index()"
   ]
  },
  {
   "cell_type": "code",
   "execution_count": 12,
   "id": "2efa0077",
   "metadata": {
    "execution": {
     "iopub.execute_input": "2022-06-04T06:12:07.449664Z",
     "iopub.status.busy": "2022-06-04T06:12:07.449116Z",
     "iopub.status.idle": "2022-06-04T06:12:07.458071Z",
     "shell.execute_reply": "2022-06-04T06:12:07.457122Z"
    },
    "papermill": {
     "duration": 0.053409,
     "end_time": "2022-06-04T06:12:07.460461",
     "exception": false,
     "start_time": "2022-06-04T06:12:07.407052",
     "status": "completed"
    },
    "tags": []
   },
   "outputs": [
    {
     "data": {
      "text/plain": [
       "[233, 267, 271, 302, 388, 357, 376, 399, 495, 473, 544, 501, 390, 20]"
      ]
     },
     "execution_count": 12,
     "metadata": {},
     "output_type": "execute_result"
    }
   ],
   "source": [
    "#counting the numbers of shows produced in each year\n",
    "show_count = df['year'].loc[df['year']>2008].value_counts().sort_index().to_list()\n",
    "show_count\n"
   ]
  },
  {
   "cell_type": "code",
   "execution_count": 13,
   "id": "adde3f19",
   "metadata": {
    "execution": {
     "iopub.execute_input": "2022-06-04T06:12:07.535660Z",
     "iopub.status.busy": "2022-06-04T06:12:07.535388Z",
     "iopub.status.idle": "2022-06-04T06:12:07.541075Z",
     "shell.execute_reply": "2022-06-04T06:12:07.539880Z"
    },
    "papermill": {
     "duration": 0.045449,
     "end_time": "2022-06-04T06:12:07.543297",
     "exception": false,
     "start_time": "2022-06-04T06:12:07.497848",
     "status": "completed"
    },
    "tags": []
   },
   "outputs": [],
   "source": [
    "df_grp['show_count'] = show_count"
   ]
  },
  {
   "cell_type": "code",
   "execution_count": 14,
   "id": "e884499f",
   "metadata": {
    "execution": {
     "iopub.execute_input": "2022-06-04T06:12:07.620017Z",
     "iopub.status.busy": "2022-06-04T06:12:07.619341Z",
     "iopub.status.idle": "2022-06-04T06:12:07.624288Z",
     "shell.execute_reply": "2022-06-04T06:12:07.623341Z"
    },
    "papermill": {
     "duration": 0.044638,
     "end_time": "2022-06-04T06:12:07.626507",
     "exception": false,
     "start_time": "2022-06-04T06:12:07.581869",
     "status": "completed"
    },
    "tags": []
   },
   "outputs": [],
   "source": [
    "x = df_grp['year'].values"
   ]
  },
  {
   "cell_type": "code",
   "execution_count": 15,
   "id": "c89f2c38",
   "metadata": {
    "execution": {
     "iopub.execute_input": "2022-06-04T06:12:07.703968Z",
     "iopub.status.busy": "2022-06-04T06:12:07.703381Z",
     "iopub.status.idle": "2022-06-04T06:12:07.901595Z",
     "shell.execute_reply": "2022-06-04T06:12:07.900893Z"
    },
    "papermill": {
     "duration": 0.23905,
     "end_time": "2022-06-04T06:12:07.903885",
     "exception": false,
     "start_time": "2022-06-04T06:12:07.664835",
     "status": "completed"
    },
    "tags": []
   },
   "outputs": [
    {
     "data": {
      "image/png": "[encoded data removed]",
      "text/plain": [
       "<Figure size 432x288 with 1 Axes>"
      ]
     },
     "metadata": {
      "needs_background": "light"
     },
     "output_type": "display_data"
    }
   ],
   "source": [
    "plt.plot(x, show_count,marker='o')\n",
    "plt.title('number of show in each year')\n",
    "plt.xlabel('Year')\n",
    "plt.ylabel('number of show')\n",
    "plt.grid(True)\n",
    "plt.show()\n"
   ]
  },
  {
   "cell_type": "markdown",
   "id": "515d8ea3",
   "metadata": {
    "papermill": {
     "duration": 0.039618,
     "end_time": "2022-06-04T06:12:07.987480",
     "exception": false,
     "start_time": "2022-06-04T06:12:07.947862",
     "status": "completed"
    },
    "tags": []
   },
   "source": [
    "TED started its prodution steadily from 2009 to 2012 and got its first peak in 2013. Then, there is a decrease in the quantity of show in 2014 but it countinued increase to the highest peak in 2019"
   ]
  },
  {
   "cell_type": "markdown",
   "id": "caa86d24",
   "metadata": {
    "papermill": {
     "duration": 0.03726,
     "end_time": "2022-06-04T06:12:08.062624",
     "exception": false,
     "start_time": "2022-06-04T06:12:08.025364",
     "status": "completed"
    },
    "tags": []
   },
   "source": [
    "# **The change of views from 2009 to 2022**"
   ]
  },
  {
   "cell_type": "code",
   "execution_count": 16,
   "id": "7ab94549",
   "metadata": {
    "execution": {
     "iopub.execute_input": "2022-06-04T06:12:08.140058Z",
     "iopub.status.busy": "2022-06-04T06:12:08.139495Z",
     "iopub.status.idle": "2022-06-04T06:12:08.341805Z",
     "shell.execute_reply": "2022-06-04T06:12:08.341096Z"
    },
    "papermill": {
     "duration": 0.242827,
     "end_time": "2022-06-04T06:12:08.343840",
     "exception": false,
     "start_time": "2022-06-04T06:12:08.101013",
     "status": "completed"
    },
    "tags": []
   },
   "outputs": [
    {
     "data": {
      "image/png": "[encoded data removed]",
      "text/plain": [
       "<Figure size 432x288 with 1 Axes>"
      ]
     },
     "metadata": {
      "needs_background": "light"
     },
     "output_type": "display_data"
    }
   ],
   "source": [
    "plt.plot(x, df_grp['views'],marker='o')\n",
    "plt.title('number of show in each year')\n",
    "plt.xlabel('Year')\n",
    "plt.ylabel('number of show')\n",
    "plt.grid(True)\n",
    "plt.show()"
   ]
  },
  {
   "cell_type": "markdown",
   "id": "6dd20b38",
   "metadata": {
    "papermill": {
     "duration": 0.037969,
     "end_time": "2022-06-04T06:12:08.420308",
     "exception": false,
     "start_time": "2022-06-04T06:12:08.382339",
     "status": "completed"
    },
    "tags": []
   },
   "source": [
    "The shape of two charts are similiar. So, I predict that there is a correlation between a number of show and a view in a year"
   ]
  },
  {
   "cell_type": "markdown",
   "id": "23409d13",
   "metadata": {
    "papermill": {
     "duration": 0.038984,
     "end_time": "2022-06-04T06:12:08.498914",
     "exception": false,
     "start_time": "2022-06-04T06:12:08.459930",
     "status": "completed"
    },
    "tags": []
   },
   "source": [
    "# **Is there a correlation between a number of shows and a view in each year?**"
   ]
  },
  {
   "cell_type": "code",
   "execution_count": 17,
   "id": "161f13ab",
   "metadata": {
    "execution": {
     "iopub.execute_input": "2022-06-04T06:12:08.577205Z",
     "iopub.status.busy": "2022-06-04T06:12:08.576672Z",
     "iopub.status.idle": "2022-06-04T06:12:08.583396Z",
     "shell.execute_reply": "2022-06-04T06:12:08.582189Z"
    },
    "papermill": {
     "duration": 0.048633,
     "end_time": "2022-06-04T06:12:08.585614",
     "exception": false,
     "start_time": "2022-06-04T06:12:08.536981",
     "status": "completed"
    },
    "tags": []
   },
   "outputs": [
    {
     "name": "stdout",
     "output_type": "stream",
     "text": [
      "The Pearson Correlation Coefficient is 0.7169658841173454  with a P-value of P = 0.0039038515720279288\n"
     ]
    }
   ],
   "source": [
    "#Checking the correclation relationship\n",
    "pearson_coef, p_value = stats.pearsonr(show_count, df_grp['views'])\n",
    "print(\"The Pearson Correlation Coefficient is\", pearson_coef, \" with a P-value of P =\", p_value)"
   ]
  },
  {
   "cell_type": "code",
   "execution_count": 18,
   "id": "aa146c3a",
   "metadata": {
    "execution": {
     "iopub.execute_input": "2022-06-04T06:12:08.668927Z",
     "iopub.status.busy": "2022-06-04T06:12:08.668080Z",
     "iopub.status.idle": "2022-06-04T06:12:08.967321Z",
     "shell.execute_reply": "2022-06-04T06:12:08.966651Z"
    },
    "papermill": {
     "duration": 0.344218,
     "end_time": "2022-06-04T06:12:08.969414",
     "exception": false,
     "start_time": "2022-06-04T06:12:08.625196",
     "status": "completed"
    },
    "tags": []
   },
   "outputs": [
    {
     "data": {
      "text/plain": [
       "(0.0, 619.9072639742832)"
      ]
     },
     "execution_count": 18,
     "metadata": {},
     "output_type": "execute_result"
    },
    {
     "data": {
      "image/png": "[encoded data removed]",
      "text/plain": [
       "<Figure size 432x288 with 1 Axes>"
      ]
     },
     "metadata": {
      "needs_background": "light"
     },
     "output_type": "display_data"
    }
   ],
   "source": [
    "sns.regplot(x=\"views\", y=\"show_count\", data=df_grp)\n",
    "plt.ylim(0,)"
   ]
  },
  {
   "cell_type": "markdown",
   "id": "19896146",
   "metadata": {
    "papermill": {
     "duration": 0.041041,
     "end_time": "2022-06-04T06:12:09.052557",
     "exception": false,
     "start_time": "2022-06-04T06:12:09.011516",
     "status": "completed"
    },
    "tags": []
   },
   "source": [
    "Based on The Pearson Correlation Coefficient and P-value, we can say there is a quite correlation relationship between two elements."
   ]
  },
  {
   "cell_type": "code",
   "execution_count": null,
   "id": "1dc697c6",
   "metadata": {
    "execution": {
     "iopub.execute_input": "2022-06-02T03:59:46.056518Z",
     "iopub.status.busy": "2022-06-02T03:59:46.056222Z",
     "iopub.status.idle": "2022-06-02T03:59:46.070316Z",
     "shell.execute_reply": "2022-06-02T03:59:46.06928Z",
     "shell.execute_reply.started": "2022-06-02T03:59:46.056484Z"
    },
    "papermill": {
     "duration": 0.040408,
     "end_time": "2022-06-04T06:12:09.134333",
     "exception": false,
     "start_time": "2022-06-04T06:12:09.093925",
     "status": "completed"
    },
    "tags": []
   },
   "outputs": [],
   "source": []
  },
  {
   "cell_type": "code",
   "execution_count": 19,
   "id": "ad07ea78",
   "metadata": {
    "execution": {
     "iopub.execute_input": "2022-06-04T06:12:09.216940Z",
     "iopub.status.busy": "2022-06-04T06:12:09.216629Z",
     "iopub.status.idle": "2022-06-04T06:12:09.225337Z",
     "shell.execute_reply": "2022-06-04T06:12:09.224511Z"
    },
    "papermill": {
     "duration": 0.052433,
     "end_time": "2022-06-04T06:12:09.227429",
     "exception": false,
     "start_time": "2022-06-04T06:12:09.174996",
     "status": "completed"
    },
    "tags": []
   },
   "outputs": [],
   "source": [
    "n = 0\n",
    "show_change = []\n",
    "for row in df_grp.iterrows():\n",
    "    if n==0:\n",
    "        show_change.append(0)\n",
    "    else:\n",
    "        show_change.append((df_grp['show_count'][n]-df_grp['show_count'][n-1])/df_grp['show_count'][n-1]*100)\n",
    "    n += 1\n",
    "df_grp['show_change'] = show_change"
   ]
  },
  {
   "cell_type": "code",
   "execution_count": 20,
   "id": "03caa460",
   "metadata": {
    "execution": {
     "iopub.execute_input": "2022-06-04T06:12:09.310354Z",
     "iopub.status.busy": "2022-06-04T06:12:09.310025Z",
     "iopub.status.idle": "2022-06-04T06:12:09.329006Z",
     "shell.execute_reply": "2022-06-04T06:12:09.328344Z"
    },
    "papermill": {
     "duration": 0.063148,
     "end_time": "2022-06-04T06:12:09.331164",
     "exception": false,
     "start_time": "2022-06-04T06:12:09.268016",
     "status": "completed"
    },
    "tags": []
   },
   "outputs": [
    {
     "data": {
      "text/html": [
       "<div>\n",
       "<style scoped>\n",
       "    .dataframe tbody tr th:only-of-type {\n",
       "        vertical-align: middle;\n",
       "    }\n",
       "\n",
       "    .dataframe tbody tr th {\n",
       "        vertical-align: top;\n",
       "    }\n",
       "\n",
       "    .dataframe thead th {\n",
       "        text-align: right;\n",
       "    }\n",
       "</style>\n",
       "<table border=\"1\" class=\"dataframe\">\n",
       "  <thead>\n",
       "    <tr style=\"text-align: right;\">\n",
       "      <th></th>\n",
       "      <th>year</th>\n",
       "      <th>views</th>\n",
       "      <th>likes</th>\n",
       "      <th>month</th>\n",
       "      <th>show_count</th>\n",
       "      <th>show_change</th>\n",
       "      <th>view_change</th>\n",
       "    </tr>\n",
       "  </thead>\n",
       "  <tbody>\n",
       "    <tr>\n",
       "      <th>0</th>\n",
       "      <td>2009</td>\n",
       "      <td>557635000</td>\n",
       "      <td>16841500</td>\n",
       "      <td>1421</td>\n",
       "      <td>233</td>\n",
       "      <td>0.000000</td>\n",
       "      <td>0.000000</td>\n",
       "    </tr>\n",
       "    <tr>\n",
       "      <th>1</th>\n",
       "      <td>2010</td>\n",
       "      <td>528145999</td>\n",
       "      <td>15962900</td>\n",
       "      <td>1730</td>\n",
       "      <td>267</td>\n",
       "      <td>14.592275</td>\n",
       "      <td>-5.288226</td>\n",
       "    </tr>\n",
       "    <tr>\n",
       "      <th>2</th>\n",
       "      <td>2011</td>\n",
       "      <td>575677999</td>\n",
       "      <td>17478900</td>\n",
       "      <td>1792</td>\n",
       "      <td>271</td>\n",
       "      <td>1.498127</td>\n",
       "      <td>8.999784</td>\n",
       "    </tr>\n",
       "    <tr>\n",
       "      <th>3</th>\n",
       "      <td>2012</td>\n",
       "      <td>803186000</td>\n",
       "      <td>24331209</td>\n",
       "      <td>1755</td>\n",
       "      <td>302</td>\n",
       "      <td>11.439114</td>\n",
       "      <td>39.520010</td>\n",
       "    </tr>\n",
       "    <tr>\n",
       "      <th>4</th>\n",
       "      <td>2013</td>\n",
       "      <td>1062537497</td>\n",
       "      <td>32249916</td>\n",
       "      <td>2276</td>\n",
       "      <td>388</td>\n",
       "      <td>28.476821</td>\n",
       "      <td>32.290341</td>\n",
       "    </tr>\n",
       "    <tr>\n",
       "      <th>5</th>\n",
       "      <td>2014</td>\n",
       "      <td>824652297</td>\n",
       "      <td>25076665</td>\n",
       "      <td>2540</td>\n",
       "      <td>357</td>\n",
       "      <td>-7.989691</td>\n",
       "      <td>-22.388405</td>\n",
       "    </tr>\n",
       "    <tr>\n",
       "      <th>6</th>\n",
       "      <td>2015</td>\n",
       "      <td>1154739598</td>\n",
       "      <td>35151746</td>\n",
       "      <td>2647</td>\n",
       "      <td>376</td>\n",
       "      <td>5.322129</td>\n",
       "      <td>40.027452</td>\n",
       "    </tr>\n",
       "    <tr>\n",
       "      <th>7</th>\n",
       "      <td>2016</td>\n",
       "      <td>928894896</td>\n",
       "      <td>28306782</td>\n",
       "      <td>2638</td>\n",
       "      <td>399</td>\n",
       "      <td>6.117021</td>\n",
       "      <td>-19.558063</td>\n",
       "    </tr>\n",
       "    <tr>\n",
       "      <th>8</th>\n",
       "      <td>2017</td>\n",
       "      <td>998891600</td>\n",
       "      <td>30516328</td>\n",
       "      <td>3675</td>\n",
       "      <td>495</td>\n",
       "      <td>24.060150</td>\n",
       "      <td>7.535482</td>\n",
       "    </tr>\n",
       "    <tr>\n",
       "      <th>9</th>\n",
       "      <td>2018</td>\n",
       "      <td>811857597</td>\n",
       "      <td>24671493</td>\n",
       "      <td>3583</td>\n",
       "      <td>473</td>\n",
       "      <td>-4.444444</td>\n",
       "      <td>-18.724154</td>\n",
       "    </tr>\n",
       "    <tr>\n",
       "      <th>10</th>\n",
       "      <td>2019</td>\n",
       "      <td>948119299</td>\n",
       "      <td>28764575</td>\n",
       "      <td>3592</td>\n",
       "      <td>544</td>\n",
       "      <td>15.010571</td>\n",
       "      <td>16.783941</td>\n",
       "    </tr>\n",
       "    <tr>\n",
       "      <th>11</th>\n",
       "      <td>2020</td>\n",
       "      <td>635944200</td>\n",
       "      <td>19297014</td>\n",
       "      <td>3391</td>\n",
       "      <td>501</td>\n",
       "      <td>-7.904412</td>\n",
       "      <td>-32.925719</td>\n",
       "    </tr>\n",
       "    <tr>\n",
       "      <th>12</th>\n",
       "      <td>2021</td>\n",
       "      <td>429728700</td>\n",
       "      <td>13058238</td>\n",
       "      <td>2797</td>\n",
       "      <td>390</td>\n",
       "      <td>-22.155689</td>\n",
       "      <td>-32.426666</td>\n",
       "    </tr>\n",
       "    <tr>\n",
       "      <th>13</th>\n",
       "      <td>2022</td>\n",
       "      <td>11470000</td>\n",
       "      <td>341254</td>\n",
       "      <td>28</td>\n",
       "      <td>20</td>\n",
       "      <td>-94.871795</td>\n",
       "      <td>-97.330874</td>\n",
       "    </tr>\n",
       "  </tbody>\n",
       "</table>\n",
       "</div>"
      ],
      "text/plain": [
       "    year       views     likes  month  show_count  show_change  view_change\n",
       "0   2009   557635000  16841500   1421         233     0.000000     0.000000\n",
       "1   2010   528145999  15962900   1730         267    14.592275    -5.288226\n",
       "2   2011   575677999  17478900   1792         271     1.498127     8.999784\n",
       "3   2012   803186000  24331209   1755         302    11.439114    39.520010\n",
       "4   2013  1062537497  32249916   2276         388    28.476821    32.290341\n",
       "5   2014   824652297  25076665   2540         357    -7.989691   -22.388405\n",
       "6   2015  1154739598  35151746   2647         376     5.322129    40.027452\n",
       "7   2016   928894896  28306782   2638         399     6.117021   -19.558063\n",
       "8   2017   998891600  30516328   3675         495    24.060150     7.535482\n",
       "9   2018   811857597  24671493   3583         473    -4.444444   -18.724154\n",
       "10  2019   948119299  28764575   3592         544    15.010571    16.783941\n",
       "11  2020   635944200  19297014   3391         501    -7.904412   -32.925719\n",
       "12  2021   429728700  13058238   2797         390   -22.155689   -32.426666\n",
       "13  2022    11470000    341254     28          20   -94.871795   -97.330874"
      ]
     },
     "execution_count": 20,
     "metadata": {},
     "output_type": "execute_result"
    }
   ],
   "source": [
    "n = 0\n",
    "view_change = []\n",
    "for row in df_grp.iterrows():\n",
    "    if n==0:\n",
    "        view_change.append(0)\n",
    "    else:\n",
    "        view_change.append((df_grp['views'][n]-df_grp['views'][n-1])/df_grp['views'][n-1]*100)\n",
    "    n += 1\n",
    "df_grp['view_change'] = view_change\n",
    "df_grp"
   ]
  },
  {
   "cell_type": "code",
   "execution_count": 21,
   "id": "48799638",
   "metadata": {
    "execution": {
     "iopub.execute_input": "2022-06-04T06:12:09.418912Z",
     "iopub.status.busy": "2022-06-04T06:12:09.418041Z",
     "iopub.status.idle": "2022-06-04T06:12:09.637538Z",
     "shell.execute_reply": "2022-06-04T06:12:09.636554Z"
    },
    "papermill": {
     "duration": 0.264802,
     "end_time": "2022-06-04T06:12:09.639838",
     "exception": false,
     "start_time": "2022-06-04T06:12:09.375036",
     "status": "completed"
    },
    "tags": []
   },
   "outputs": [
    {
     "data": {
      "image/png": "[encoded data removed]",
      "text/plain": [
       "<Figure size 432x288 with 1 Axes>"
      ]
     },
     "metadata": {
      "needs_background": "light"
     },
     "output_type": "display_data"
    }
   ],
   "source": [
    "plt.plot(x, show_change,marker='o')\n",
    "plt.plot(x, view_change,marker='o')\n",
    "plt.title('ratio change of show and views in each year')\n",
    "plt.xlabel('Year')\n",
    "plt.ylabel('percentage')\n",
    "plt.grid(True)\n",
    "plt.show()"
   ]
  },
  {
   "cell_type": "raw",
   "id": "01926ae0",
   "metadata": {
    "papermill": {
     "duration": 0.041947,
     "end_time": "2022-06-04T06:12:09.724685",
     "exception": false,
     "start_time": "2022-06-04T06:12:09.682738",
     "status": "completed"
    },
    "tags": []
   },
   "source": [
    "In period 2009-2010, TED talks produced more shows, increase nearly 15%, however, the view decreased. One year later, the quantity of show had a bit growth. The views in 2011 saw a significantly increase, 9% compared with 2010. Maybe, TED considered about the quality of show more the quantity. Continuously from 2011 to 2013, the more shows were produced, the more audiences was attracted, vice versa\n",
    "The changes of the quantity of show and the views through years started from 2010 were similar"
   ]
  }
 ],
 "metadata": {
  "kernelspec": {
   "display_name": "Python 3",
   "language": "python",
   "name": "python3"
  },
  "language_info": {
   "codemirror_mode": {
    "name": "ipython",
    "version": 3
   },
   "file_extension": ".py",
   "mimetype": "text/x-python",
   "name": "python",
   "nbconvert_exporter": "python",
   "pygments_lexer": "ipython3",
   "version": "3.7.12"
  },
  "papermill": {
   "default_parameters": {},
   "duration": 16.74304,
   "end_time": "2022-06-04T06:12:10.487377",
   "environment_variables": {},
   "exception": null,
   "input_path": "__notebook__.ipynb",
   "output_path": "__notebook__.ipynb",
   "parameters": {},
   "start_time": "2022-06-04T06:11:53.744337",
   "version": "2.3.4"
  }
 },
 "nbformat": 4,
 "nbformat_minor": 5
}
